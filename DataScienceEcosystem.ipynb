{
 "cells": [
  {
   "cell_type": "markdown",
   "id": "6e2c6706-eeb9-41f4-bf10-27d0b720f73d",
   "metadata": {},
   "source": [
    "# Data science Tools and Ecosystem"
   ]
  },
  {
   "cell_type": "markdown",
   "id": "638f5bed-f11e-4fa1-9269-b5d38fa1fe3a",
   "metadata": {},
   "source": [
    "In this notebook, Data science Tools and Ecosystem are Summarized"
   ]
  },
  {
   "cell_type": "markdown",
   "id": "7d36191b-afb5-45e6-8e82-d740662559d5",
   "metadata": {
    "tags": []
   },
   "source": [
    "__Objectives:__\n",
    "- python\n",
    "- R\n",
    "- julia\n",
    "- Java\n",
    "- Go\n"
   ]
  },
  {
   "cell_type": "markdown",
   "id": "d9af1b09-a9ed-4db8-b701-b8bbe9985dc1",
   "metadata": {},
   "source": [
    "some of the popular languages that data scientists use are:\n",
    "1. python\n",
    "2. R\n",
    "3. SQL"
   ]
  },
  {
   "cell_type": "markdown",
   "id": "e075467e-2248-451d-ba23-f252b3acfede",
   "metadata": {},
   "source": [
    "some of the commonly used libraries used by data scientists include:\n",
    "1. NumPy\n",
    "2. Pandas\n",
    "3. Tensorflow\n",
    "4. Seaborn"
   ]
  },
  {
   "cell_type": "markdown",
   "id": "23da8fd7-d55f-4578-9280-274eb431bdbe",
   "metadata": {},
   "source": [
    "|Data Science Tools|\n",
    "|------------------|\n",
    "|Rstudio           |\n",
    "|Jupyter Notebooks |\n",
    "|Apache Spark      |"
   ]
  },
  {
   "cell_type": "markdown",
   "id": "838e329c-b9c5-49e6-a96b-a57a30f9dd67",
   "metadata": {
    "tags": []
   },
   "source": [
    "### Below are a few examples of evaluating arithmetic expressions in python"
   ]
  },
  {
   "cell_type": "code",
   "execution_count": 2,
   "id": "3dab2f51-4e54-4081-9cc8-d0db8fdd0778",
   "metadata": {
    "tags": []
   },
   "outputs": [
    {
     "data": {
      "text/plain": [
       "17"
      ]
     },
     "execution_count": 2,
     "metadata": {},
     "output_type": "execute_result"
    }
   ],
   "source": [
    "# This a simple arithmetic expression to multply then add integers \n",
    "(3*4)+5"
   ]
  },
  {
   "cell_type": "code",
   "execution_count": 3,
   "id": "37ded4e9-462b-4465-8c86-023281e946b8",
   "metadata": {
    "tags": []
   },
   "outputs": [
    {
     "data": {
      "text/plain": [
       "3.3333333333333335"
      ]
     },
     "execution_count": 3,
     "metadata": {},
     "output_type": "execute_result"
    }
   ],
   "source": [
    "# This will covert 200 minutes to hours by dividing by 60\n",
    "200/60"
   ]
  },
  {
   "cell_type": "markdown",
   "id": "52406932-d7cc-40ca-a13d-b35c6e11d17f",
   "metadata": {},
   "source": [
    "## Author\n",
    "Ragul Rao S"
   ]
  }
 ],
 "metadata": {
  "kernelspec": {
   "display_name": "Python",
   "language": "python",
   "name": "conda-env-python-py"
  },
  "language_info": {
   "codemirror_mode": {
    "name": "ipython",
    "version": 3
   },
   "file_extension": ".py",
   "mimetype": "text/x-python",
   "name": "python",
   "nbconvert_exporter": "python",
   "pygments_lexer": "ipython3",
   "version": "3.7.12"
  }
 },
 "nbformat": 4,
 "nbformat_minor": 5
}
